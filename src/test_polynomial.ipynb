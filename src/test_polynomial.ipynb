{
 "cells": [
  {
   "cell_type": "code",
   "execution_count": 1,
   "metadata": {},
   "outputs": [],
   "source": [
    "from typing import Tuple\n",
    "\n",
    "import numpy as np\n",
    "from numpy.typing import NDArray\n",
    "from scipy.integrate import quad\n",
    "\n",
    "from pyzeal_algorithms.pyzeal_estimators.quad_estimator import QuadratureEstimator\n",
    "from pyzeal_algorithms.pyzeal_estimators.estimator_cache import EstimatorCache\n",
    "from pyzeal_utils.root_context import RootContext\n",
    "from pyzeal_utils.pyzeal_containers.rounding_container import RoundingContainer"
   ]
  },
  {
   "cell_type": "code",
   "execution_count": 2,
   "metadata": {},
   "outputs": [],
   "source": [
    "def testFunc(x: NDArray[np.complex128], n: int) -> NDArray[np.complex128]:\n",
    "    \"\"\"\n",
    "    Simple function used to test the Newton polynomial based\n",
    "    root finding algorithm\n",
    "    \"\"\"\n",
    "    return n * x**(n - 1) / x**n\n",
    "\n",
    "n = 2"
   ]
  },
  {
   "cell_type": "code",
   "execution_count": 3,
   "metadata": {},
   "outputs": [
    {
     "name": "stdout",
     "output_type": "stream",
     "text": [
      "for n=2: integral=(1.3862943611198908-0j) -- error=1.5390959186233243e-14j\n"
     ]
    }
   ],
   "source": [
    "# integrate the test function along the vertical strip [1j, rj]\n",
    "realResult = quad(lambda x: np.real(testFunc(x * 1j, n)), 1, 2)\n",
    "imagResult = quad(lambda x: np.imag(testFunc(x * 1j, n)), 1, 2)\n",
    "integral = 1j * (realResult[0] + 1j * imagResult[0])\n",
    "realError, imagError = realResult[1], imagResult[1]\n",
    "print(f\"for n={n}: integral={integral} -- error={realError + 1j * imagError}\")"
   ]
  },
  {
   "cell_type": "code",
   "execution_count": 4,
   "metadata": {},
   "outputs": [],
   "source": [
    "def integrateHorizontal(\n",
    "    reRan: Tuple[float, float], imRan: Tuple[complex, complex]\n",
    ") -> complex:\n",
    "    \"\"\"\n",
    "    Integrate the (global) test function along a horizontal stretch in the\n",
    "    complex plane.\n",
    "    \"\"\"\n",
    "    realResult = quad(\n",
    "        lambda x: np.real(testFunc(x + 1j * imRan[0], n)),\n",
    "        reRan[0],\n",
    "        reRan[1]\n",
    "    )\n",
    "    imagResult = quad(\n",
    "        lambda x: np.imag(testFunc(x + 1j * imRan[0], n)),\n",
    "        reRan[0],\n",
    "        reRan[1]\n",
    "    )\n",
    "    return realResult[0] + 1j * imagResult[0]"
   ]
  },
  {
   "cell_type": "code",
   "execution_count": 5,
   "metadata": {},
   "outputs": [],
   "source": [
    "def integrateVertical(\n",
    "    reRan: Tuple[float, float], imRan: Tuple[complex, complex]\n",
    ") -> complex:\n",
    "    \"\"\"\n",
    "    Integrate the (global) test function along a vertical stretch in the\n",
    "    complex plane.\n",
    "    \"\"\"\n",
    "    realResult = quad(\n",
    "        lambda x: np.real(testFunc(reRan[0] + 1j * x, n)),\n",
    "        imRan[0],\n",
    "        imRan[1]\n",
    "    )\n",
    "    imagResult = quad(\n",
    "        lambda x: np.imag(testFunc(reRan[0] + 1j * x, n)),\n",
    "        imRan[0],\n",
    "        imRan[1]\n",
    "    )\n",
    "    return 1j * (realResult[0] + 1j * imagResult[0])"
   ]
  },
  {
   "cell_type": "code",
   "execution_count": 6,
   "metadata": {},
   "outputs": [
    {
     "name": "stdout",
     "output_type": "stream",
     "text": [
      "(0.4700036292457356-0.6435011087932843j)\n",
      "(0.6931471805599454+0.2837941092083278j)\n"
     ]
    }
   ],
   "source": [
    "print(integrateHorizontal((1, 2), (2, 3)))\n",
    "print(integrateVertical((1, 2), (2, 3)))"
   ]
  },
  {
   "cell_type": "code",
   "execution_count": 7,
   "metadata": {},
   "outputs": [
    {
     "name": "stdout",
     "output_type": "stream",
     "text": [
      "3.141592653589793j\n",
      "6.283185307179586j\n",
      "9.42477796076938j\n",
      "theoretical=2 -- actual=(2+0j)\n"
     ]
    }
   ],
   "source": [
    "# calculate root by integrating in a rectangle around 0\n",
    "# NOTE: must use logarithmic derivative here!\n",
    "# NOTE: must account for direction of rectangle edges!\n",
    "reRan = (-1, 1)\n",
    "imRan = (-1, 1)\n",
    "phi = integrateHorizontal(reRan, (-1, 1))\n",
    "print(phi)\n",
    "phi -= integrateHorizontal(reRan, (1, -1))\n",
    "print(phi)\n",
    "phi -= integrateVertical((-1, 1), imRan)\n",
    "print(phi)\n",
    "phi += integrateVertical((1, -1), imRan)\n",
    "print(f\"theoretical={n} -- actual={phi / (2 * np.pi * 1j)}\")"
   ]
  },
  {
   "cell_type": "code",
   "execution_count": 2,
   "metadata": {},
   "outputs": [],
   "source": [
    "cache = EstimatorCache()\n",
    "estimator = QuadratureEstimator(cache)"
   ]
  },
  {
   "cell_type": "code",
   "execution_count": 5,
   "metadata": {},
   "outputs": [
    {
     "name": "stdout",
     "output_type": "stream",
     "text": [
      "Success!\n"
     ]
    }
   ],
   "source": [
    "n = 12\n",
    "cache.reset()\n",
    "moment = estimator.calcMoment(\n",
    "    order=0,\n",
    "    reRan=(-1, 1),\n",
    "    imRan=(-1, 1),\n",
    "    context=RootContext(lambda x: x**n, lambda x: n*x**(n-1), RoundingContainer(precision=(3, 3)))\n",
    ")\n",
    "print(\"Success!\" if abs(moment / (2 * np.pi) - n) < 1e-5 else \"Something went wrong... :(\")"
   ]
  },
  {
   "cell_type": "code",
   "execution_count": 22,
   "metadata": {},
   "outputs": [
    {
     "name": "stdout",
     "output_type": "stream",
     "text": [
      "n=1, order=0, moment=1.0\n",
      "n=1, order=1, moment=0.5\n",
      "n=1, order=2, moment=0.25\n",
      "n=1, order=3, moment=0.125\n",
      "---------------------------\n",
      "n=2, order=0, moment=2.0\n",
      "n=2, order=1, moment=1.0\n",
      "n=2, order=2, moment=0.5\n",
      "n=2, order=3, moment=0.25\n",
      "---------------------------\n",
      "n=3, order=0, moment=3.0\n",
      "n=3, order=1, moment=1.5\n",
      "n=3, order=2, moment=0.75\n",
      "n=3, order=3, moment=0.375\n",
      "---------------------------\n",
      "n=4, order=0, moment=4.0\n",
      "n=4, order=1, moment=2.0\n",
      "n=4, order=2, moment=1.0\n",
      "n=4, order=3, moment=0.5\n",
      "---------------------------\n"
     ]
    }
   ],
   "source": [
    "for n in [1, 2, 3, 4]:\n",
    "    for order in [0, 1, 2, 3]:\n",
    "        cache.reset()\n",
    "        moment = estimator.calcMoment(\n",
    "            order=order,\n",
    "            reRan=(-1, 1),\n",
    "            imRan=(-1, 1),\n",
    "            context=RootContext(lambda x: (x-0.5)**n, lambda x: n*(x-0.5)**(n-1), RoundingContainer(precision=(3, 3)))\n",
    "        )\n",
    "        print(f\"n={n}, order={order}, moment={round(moment / (2 * np.pi), 5)}\")\n",
    "    print(\"-\" * 28)"
   ]
  },
  {
   "cell_type": "code",
   "execution_count": 3,
   "metadata": {},
   "outputs": [],
   "source": [
    "from scipy.integrate import romb\n",
    "import numpy as np"
   ]
  },
  {
   "cell_type": "code",
   "execution_count": 4,
   "metadata": {},
   "outputs": [
    {
     "name": "stdout",
     "output_type": "stream",
     "text": [
      "n=1, integrals=0.5j, 0.5j, 0.5j\n",
      "n=2, integrals=(-0.3333333333333333+0j), (-0.3333333333333333+0j), (-0.3333333333333333+0j)\n",
      "n=3, integrals=-0.25j, -0.25j, -0.25j\n",
      "n=4, integrals=(0.2+0j), (0.2+0j), (0.2+0j)\n"
     ]
    }
   ],
   "source": [
    "for n in [1, 2, 3, 4]:\n",
    "    integrals = []\n",
    "    for k in [8, 10, 12]:\n",
    "        a, b = 0, 1j\n",
    "        x = np.linspace(a, b, 2**k + 1)\n",
    "        y = x ** n\n",
    "        integrals.append(romb(y, abs(b - a) / (2**k)))\n",
    "    print(f\"n={n}, integrals={integrals[0]}, {integrals[1]}, {integrals[2]}\")"
   ]
  },
  {
   "cell_type": "code",
   "execution_count": null,
   "metadata": {},
   "outputs": [],
   "source": [
    "# TODO: cache calculated arrays of function values in EstimatorCache!\n",
    "# TODO: adjust complex line if root on line found!\n",
    "\n",
    "# TODO: use higher moments to calculate the coefficients of Newton's polynomial\n",
    "# TODO: use some rootfinder to calculate roots of Newton's polynomial\n",
    "\n",
    "# TODO: Feature request for domains other than rectangles (custom Plugins)"
   ]
  }
 ],
 "metadata": {
  "kernelspec": {
   "display_name": "Python 3",
   "language": "python",
   "name": "python3"
  },
  "language_info": {
   "codemirror_mode": {
    "name": "ipython",
    "version": 3
   },
   "file_extension": ".py",
   "mimetype": "text/x-python",
   "name": "python",
   "nbconvert_exporter": "python",
   "pygments_lexer": "ipython3",
   "version": "3.8.0"
  },
  "orig_nbformat": 4,
  "vscode": {
   "interpreter": {
    "hash": "df0893f56f349688326838aaeea0de204df53a132722cbd565e54b24a8fec5f6"
   }
  }
 },
 "nbformat": 4,
 "nbformat_minor": 2
}
