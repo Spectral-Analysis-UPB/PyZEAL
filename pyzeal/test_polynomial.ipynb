{
 "cells": [
  {
   "cell_type": "code",
   "execution_count": 1,
   "metadata": {},
   "outputs": [],
   "source": [
    "from typing import Tuple\n",
    "\n",
    "import numpy as np\n",
    "from numpy.typing import NDArray\n",
    "from scipy.integrate import quad\n",
    "\n",
    "from pyzeal.algorithms.estimators.quad_estimator import (\n",
    "    QuadratureEstimator,\n",
    ")\n",
    "from pyzeal.algorithms.estimators.sum_estimator import (\n",
    "    SummationEstimator,\n",
    ")\n",
    "from pyzeal.algorithms.estimators.estimator_cache import EstimatorCache\n",
    "from pyzeal.utils.root_context import RootContext\n",
    "from pyzeal.utils.containers.rounding_container import RoundingContainer"
   ]
  },
  {
   "cell_type": "code",
   "execution_count": 2,
   "metadata": {},
   "outputs": [],
   "source": [
    "def testFunc(x: NDArray[np.complex128], n: int) -> NDArray[np.complex128]:\n",
    "    \"\"\"\n",
    "    Simple function used to test the Newton polynomial based\n",
    "    root finding algorithm.\n",
    "    \"\"\"\n",
    "    return n * x ** (n - 1) / x**n\n",
    "\n",
    "\n",
    "n = 2\n"
   ]
  },
  {
   "cell_type": "code",
   "execution_count": 3,
   "metadata": {},
   "outputs": [
    {
     "name": "stdout",
     "output_type": "stream",
     "text": [
      "for n=2: integral=(1.3862943611198908-0j) -- error=1.5390959186233243e-14j\n"
     ]
    }
   ],
   "source": [
    "# integrate the test function along the vertical strip [1j, rj]\n",
    "realResult = quad(lambda x: np.real(testFunc(x * 1j, n)), 1, 2)\n",
    "imagResult = quad(lambda x: np.imag(testFunc(x * 1j, n)), 1, 2)\n",
    "integral = 1j * (realResult[0] + 1j * imagResult[0])\n",
    "realError, imagError = realResult[1], imagResult[1]\n",
    "print(f\"for n={n}: integral={integral} -- error={realError + 1j * imagError}\")"
   ]
  },
  {
   "cell_type": "code",
   "execution_count": 4,
   "metadata": {},
   "outputs": [],
   "source": [
    "def integrateHorizontal(\n",
    "    reRan: Tuple[float, float], imRan: Tuple[complex, complex]\n",
    ") -> complex:\n",
    "    \"\"\"\n",
    "    Integrate the (global) test function along a horizontal stretch in the\n",
    "    complex plane.\n",
    "    \"\"\"\n",
    "    realResult = quad(\n",
    "        lambda x: np.real(testFunc(x + 1j * imRan[0], n)), reRan[0], reRan[1]\n",
    "    )\n",
    "    imagResult = quad(\n",
    "        lambda x: np.imag(testFunc(x + 1j * imRan[0], n)), reRan[0], reRan[1]\n",
    "    )\n",
    "    return realResult[0] + 1j * imagResult[0]"
   ]
  },
  {
   "cell_type": "code",
   "execution_count": 5,
   "metadata": {},
   "outputs": [],
   "source": [
    "def integrateVertical(\n",
    "    reRan: Tuple[float, float], imRan: Tuple[complex, complex]\n",
    ") -> complex:\n",
    "    \"\"\"\n",
    "    Integrate the (global) test function along a vertical stretch in the\n",
    "    complex plane.\n",
    "    \"\"\"\n",
    "    realResult = quad(\n",
    "        lambda x: np.real(testFunc(reRan[0] + 1j * x, n)), imRan[0], imRan[1]\n",
    "    )\n",
    "    imagResult = quad(\n",
    "        lambda x: np.imag(testFunc(reRan[0] + 1j * x, n)), imRan[0], imRan[1]\n",
    "    )\n",
    "    return 1j * (realResult[0] + 1j * imagResult[0])"
   ]
  },
  {
   "cell_type": "code",
   "execution_count": 6,
   "metadata": {},
   "outputs": [
    {
     "name": "stdout",
     "output_type": "stream",
     "text": [
      "(0.4700036292457356-0.6435011087932843j)\n",
      "(0.6931471805599454+0.2837941092083278j)\n"
     ]
    }
   ],
   "source": [
    "print(integrateHorizontal((1, 2), (2, 3)))\n",
    "print(integrateVertical((1, 2), (2, 3)))"
   ]
  },
  {
   "cell_type": "code",
   "execution_count": 7,
   "metadata": {},
   "outputs": [
    {
     "name": "stdout",
     "output_type": "stream",
     "text": [
      "3.141592653589793j\n",
      "6.283185307179586j\n",
      "9.42477796076938j\n",
      "theoretical=2 -- actual=(2+0j)\n"
     ]
    }
   ],
   "source": [
    "# calculate root by integrating in a rectangle around 0\n",
    "# NOTE: must use logarithmic derivative here!\n",
    "# NOTE: must account for direction of rectangle edges!\n",
    "reRan = (-1, 1)\n",
    "imRan = (-1, 1)\n",
    "phi = integrateHorizontal(reRan, (-1, 1))\n",
    "print(phi)\n",
    "phi -= integrateHorizontal(reRan, (1, -1))\n",
    "print(phi)\n",
    "phi -= integrateVertical((-1, 1), imRan)\n",
    "print(phi)\n",
    "phi += integrateVertical((1, -1), imRan)\n",
    "print(f\"theoretical={n} -- actual={phi / (2 * np.pi * 1j)}\")"
   ]
  },
  {
   "cell_type": "code",
   "execution_count": 2,
   "metadata": {},
   "outputs": [],
   "source": [
    "cache = EstimatorCache()\n",
    "estimator = SummationEstimator(\n",
    "    cache=cache, numPts=6500, maxPrecision=1e-10, deltaPhi=0.1\n",
    ")"
   ]
  },
  {
   "cell_type": "code",
   "execution_count": 3,
   "metadata": {},
   "outputs": [
    {
     "name": "stdout",
     "output_type": "stream",
     "text": [
      "Success!\n"
     ]
    }
   ],
   "source": [
    "n = 12\n",
    "cache.reset()\n",
    "moment = estimator.calcMoment(\n",
    "    order=0,\n",
    "    reRan=(-1, 1),\n",
    "    imRan=(-1, 1),\n",
    "    context=RootContext(\n",
    "        lambda x: x**n,\n",
    "        lambda x: n * x ** (n - 1),\n",
    "        RoundingContainer(precision=(3, 3)),\n",
    "    ),\n",
    ")\n",
    "print(\n",
    "    \"Success!\"\n",
    "    if abs(moment / (2 * np.pi) - n) < 1e-5\n",
    "    else \"Something went wrong... :(\"\n",
    ")"
   ]
  },
  {
   "cell_type": "code",
   "execution_count": 4,
   "metadata": {},
   "outputs": [
    {
     "name": "stdout",
     "output_type": "stream",
     "text": [
      "n=1, order=0, moment=12.0, moment=75.39822368615503\n"
     ]
    },
    {
     "ename": "NotImplementedError",
     "evalue": "summation estimator is not implemented for order=1>0!",
     "output_type": "error",
     "traceback": [
      "\u001b[0;31m---------------------------------------------------------------------------\u001b[0m",
      "\u001b[0;31mNotImplementedError\u001b[0m                       Traceback (most recent call last)",
      "\u001b[1;32m/home/pschuet2/projects/pyzeal/PyZEAL/src/test_polynomial.ipynb Cell 10\u001b[0m in \u001b[0;36m<cell line: 1>\u001b[0;34m()\u001b[0m\n\u001b[1;32m      <a href='vscode-notebook-cell:/home/pschuet2/projects/pyzeal/PyZEAL/src/test_polynomial.ipynb#X12sZmlsZQ%3D%3D?line=1'>2</a>\u001b[0m \u001b[39mfor\u001b[39;00m order \u001b[39min\u001b[39;00m [\u001b[39m0\u001b[39m, \u001b[39m1\u001b[39m, \u001b[39m2\u001b[39m, \u001b[39m3\u001b[39m]:\n\u001b[1;32m      <a href='vscode-notebook-cell:/home/pschuet2/projects/pyzeal/PyZEAL/src/test_polynomial.ipynb#X12sZmlsZQ%3D%3D?line=2'>3</a>\u001b[0m     cache\u001b[39m.\u001b[39mreset()\n\u001b[0;32m----> <a href='vscode-notebook-cell:/home/pschuet2/projects/pyzeal/PyZEAL/src/test_polynomial.ipynb#X12sZmlsZQ%3D%3D?line=3'>4</a>\u001b[0m     moment \u001b[39m=\u001b[39m estimator\u001b[39m.\u001b[39;49mcalcMoment(\n\u001b[1;32m      <a href='vscode-notebook-cell:/home/pschuet2/projects/pyzeal/PyZEAL/src/test_polynomial.ipynb#X12sZmlsZQ%3D%3D?line=4'>5</a>\u001b[0m         order\u001b[39m=\u001b[39;49morder,\n\u001b[1;32m      <a href='vscode-notebook-cell:/home/pschuet2/projects/pyzeal/PyZEAL/src/test_polynomial.ipynb#X12sZmlsZQ%3D%3D?line=5'>6</a>\u001b[0m         reRan\u001b[39m=\u001b[39;49m(\u001b[39m-\u001b[39;49m\u001b[39m1\u001b[39;49m, \u001b[39m1\u001b[39;49m),\n\u001b[1;32m      <a href='vscode-notebook-cell:/home/pschuet2/projects/pyzeal/PyZEAL/src/test_polynomial.ipynb#X12sZmlsZQ%3D%3D?line=6'>7</a>\u001b[0m         imRan\u001b[39m=\u001b[39;49m(\u001b[39m-\u001b[39;49m\u001b[39m1\u001b[39;49m, \u001b[39m1\u001b[39;49m),\n\u001b[1;32m      <a href='vscode-notebook-cell:/home/pschuet2/projects/pyzeal/PyZEAL/src/test_polynomial.ipynb#X12sZmlsZQ%3D%3D?line=7'>8</a>\u001b[0m         context\u001b[39m=\u001b[39;49mRootContext(\u001b[39mlambda\u001b[39;49;00m x: (x\u001b[39m-\u001b[39;49m\u001b[39m0.5\u001b[39;49m)\u001b[39m*\u001b[39;49m\u001b[39m*\u001b[39;49mn, \u001b[39mlambda\u001b[39;49;00m x: n\u001b[39m*\u001b[39;49m(x\u001b[39m-\u001b[39;49m\u001b[39m0.5\u001b[39;49m)\u001b[39m*\u001b[39;49m\u001b[39m*\u001b[39;49m(n\u001b[39m-\u001b[39;49m\u001b[39m1\u001b[39;49m), RoundingContainer(precision\u001b[39m=\u001b[39;49m(\u001b[39m3\u001b[39;49m, \u001b[39m3\u001b[39;49m)))\n\u001b[1;32m      <a href='vscode-notebook-cell:/home/pschuet2/projects/pyzeal/PyZEAL/src/test_polynomial.ipynb#X12sZmlsZQ%3D%3D?line=8'>9</a>\u001b[0m     )\n\u001b[1;32m     <a href='vscode-notebook-cell:/home/pschuet2/projects/pyzeal/PyZEAL/src/test_polynomial.ipynb#X12sZmlsZQ%3D%3D?line=9'>10</a>\u001b[0m     \u001b[39mprint\u001b[39m(\u001b[39mf\u001b[39m\u001b[39m\"\u001b[39m\u001b[39mn=\u001b[39m\u001b[39m{\u001b[39;00mn\u001b[39m}\u001b[39;00m\u001b[39m, order=\u001b[39m\u001b[39m{\u001b[39;00morder\u001b[39m}\u001b[39;00m\u001b[39m, moment=\u001b[39m\u001b[39m{\u001b[39;00m\u001b[39mround\u001b[39m(moment\u001b[39m.\u001b[39mreal \u001b[39m/\u001b[39m (\u001b[39m2\u001b[39m \u001b[39m*\u001b[39m np\u001b[39m.\u001b[39mpi), \u001b[39m5\u001b[39m)\u001b[39m}\u001b[39;00m\u001b[39m, \u001b[39m\u001b[39m{\u001b[39;00mmoment\u001b[39m=}\u001b[39;00m\u001b[39m\"\u001b[39m)\n\u001b[1;32m     <a href='vscode-notebook-cell:/home/pschuet2/projects/pyzeal/PyZEAL/src/test_polynomial.ipynb#X12sZmlsZQ%3D%3D?line=10'>11</a>\u001b[0m \u001b[39mprint\u001b[39m(\u001b[39m\"\u001b[39m\u001b[39m-\u001b[39m\u001b[39m\"\u001b[39m \u001b[39m*\u001b[39m \u001b[39m28\u001b[39m)\n",
      "File \u001b[0;32m~/projects/pyzeal/PyZEAL/src/pyzeal_algorithms/pyzeal_estimators/argument_estimator.py:61\u001b[0m, in \u001b[0;36mArgumentEstimator.calcMoment\u001b[0;34m(self, order, reRan, imRan, context)\u001b[0m\n\u001b[1;32m     59\u001b[0m     phi \u001b[39m+\u001b[39m\u001b[39m=\u001b[39m entry\n\u001b[1;32m     60\u001b[0m \u001b[39melse\u001b[39;00m:\n\u001b[0;32m---> 61\u001b[0m     deltaPhi \u001b[39m=\u001b[39m \u001b[39mself\u001b[39;49m\u001b[39m.\u001b[39;49mcalcMomentAlongLine(\n\u001b[1;32m     62\u001b[0m         order, zStart, zEnd, context\n\u001b[1;32m     63\u001b[0m     )\n\u001b[1;32m     64\u001b[0m     \u001b[39m# store the missing entry in the cache\u001b[39;00m\n\u001b[1;32m     65\u001b[0m     \u001b[39mself\u001b[39m\u001b[39m.\u001b[39mcache\u001b[39m.\u001b[39mstore(order, zStart, zEnd, deltaPhi)\n",
      "File \u001b[0;32m~/projects/pyzeal/PyZEAL/src/pyzeal_algorithms/pyzeal_estimators/sum_estimator.py:93\u001b[0m, in \u001b[0;36mSummationEstimator.calcMomentAlongLine\u001b[0;34m(self, order, zStart, zEnd, context)\u001b[0m\n\u001b[1;32m     91\u001b[0m \u001b[39m# handle the case of horizontal line first\u001b[39;00m\n\u001b[1;32m     92\u001b[0m \u001b[39mif\u001b[39;00m y1 \u001b[39m==\u001b[39m y2:\n\u001b[0;32m---> 93\u001b[0m     phi \u001b[39m=\u001b[39m \u001b[39mself\u001b[39;49m\u001b[39m.\u001b[39;49mretrieveCachedHorizontal(order, x1, x2, y1, context)\n\u001b[1;32m     94\u001b[0m \u001b[39melif\u001b[39;00m x1 \u001b[39m==\u001b[39m x2:\n\u001b[1;32m     95\u001b[0m     phi \u001b[39m=\u001b[39m \u001b[39mself\u001b[39m\u001b[39m.\u001b[39mretrieveCachedVertical(order, y1, y2, x1, context)\n",
      "File \u001b[0;32m~/projects/pyzeal/PyZEAL/src/pyzeal_algorithms/pyzeal_estimators/sum_estimator.py:140\u001b[0m, in \u001b[0;36mSummationEstimator.retrieveCachedHorizontal\u001b[0;34m(self, order, x1, x2, y, context)\u001b[0m\n\u001b[1;32m    137\u001b[0m         \u001b[39mreturn\u001b[39;00m cast(\u001b[39mfloat\u001b[39m, sign \u001b[39m*\u001b[39m newValue[\u001b[39m1\u001b[39m]\u001b[39m.\u001b[39msum())\n\u001b[1;32m    139\u001b[0m \u001b[39mself\u001b[39m\u001b[39m.\u001b[39mlogger\u001b[39m.\u001b[39mdebug(\u001b[39m\"\u001b[39m\u001b[39minternal cache miss on horizontal line!\u001b[39m\u001b[39m\"\u001b[39m)\n\u001b[0;32m--> 140\u001b[0m newValue \u001b[39m=\u001b[39m \u001b[39mself\u001b[39;49m\u001b[39m.\u001b[39;49mgenPhiArr(order, x1 \u001b[39m+\u001b[39;49m \u001b[39m1\u001b[39;49mj \u001b[39m*\u001b[39;49m y, x2 \u001b[39m+\u001b[39;49m \u001b[39m1\u001b[39;49mj \u001b[39m*\u001b[39;49m y, context)\n\u001b[1;32m    142\u001b[0m \u001b[39mif\u001b[39;00m (y, order) \u001b[39mnot\u001b[39;00m \u001b[39min\u001b[39;00m cache:\n\u001b[1;32m    143\u001b[0m     cache[(y, order)] \u001b[39m=\u001b[39m {}\n",
      "File \u001b[0;32m~/projects/pyzeal/PyZEAL/src/pyzeal_algorithms/pyzeal_estimators/sum_estimator.py:217\u001b[0m, in \u001b[0;36mSummationEstimator.genPhiArr\u001b[0;34m(self, order, zStart, zEnd, context)\u001b[0m\n\u001b[1;32m    197\u001b[0m \u001b[39m\"\"\"\u001b[39;00m\n\u001b[1;32m    198\u001b[0m \u001b[39mCalculate an array of complex argument values from the function values\u001b[39;00m\n\u001b[1;32m    199\u001b[0m \u001b[39mof the target function `context.f` on the complex line\u001b[39;00m\n\u001b[0;32m   (...)\u001b[0m\n\u001b[1;32m    214\u001b[0m \u001b[39m:rtype: Tuple[NDArray[complex], NDArray[complex]]\u001b[39;00m\n\u001b[1;32m    215\u001b[0m \u001b[39m\"\"\"\u001b[39;00m\n\u001b[1;32m    216\u001b[0m \u001b[39mif\u001b[39;00m order \u001b[39m!=\u001b[39m \u001b[39m0\u001b[39m:\n\u001b[0;32m--> 217\u001b[0m     \u001b[39mraise\u001b[39;00m \u001b[39mNotImplementedError\u001b[39;00m(\n\u001b[1;32m    218\u001b[0m         \u001b[39mf\u001b[39m\u001b[39m\"\u001b[39m\u001b[39msummation estimator is not implemented for order=\u001b[39m\u001b[39m{\u001b[39;00morder\u001b[39m}\u001b[39;00m\u001b[39m>0!\u001b[39m\u001b[39m\"\u001b[39m\n\u001b[1;32m    219\u001b[0m     )\n\u001b[1;32m    220\u001b[0m pos \u001b[39m=\u001b[39m \u001b[39m\"\u001b[39m\u001b[39mhorizontal\u001b[39m\u001b[39m\"\u001b[39m \u001b[39mif\u001b[39;00m zStart\u001b[39m.\u001b[39mimag \u001b[39m==\u001b[39m zEnd\u001b[39m.\u001b[39mimag \u001b[39melse\u001b[39;00m \u001b[39m\"\u001b[39m\u001b[39mvertical\u001b[39m\u001b[39m\"\u001b[39m\n\u001b[1;32m    221\u001b[0m zArr \u001b[39m=\u001b[39m np\u001b[39m.\u001b[39mlinspace(zStart, zEnd, \u001b[39mself\u001b[39m\u001b[39m.\u001b[39mnumPts)\n",
      "\u001b[0;31mNotImplementedError\u001b[0m: summation estimator is not implemented for order=1>0!"
     ]
    }
   ],
   "source": [
    "for n in [1, 2, 3, 4]:\n",
    "    for order in [0, 1, 2, 3]:\n",
    "        cache.reset()\n",
    "        moment = estimator.calcMoment(\n",
    "            order=order,\n",
    "            reRan=(-1, 1),\n",
    "            imRan=(-1, 1),\n",
    "            context=RootContext(\n",
    "                lambda x: (x - 0.5) ** n,\n",
    "                lambda x: n * (x - 0.5) ** (n - 1),\n",
    "                RoundingContainer(precision=(3, 3)),\n",
    "            ),\n",
    "        )\n",
    "        print(\n",
    "            f\"n={n}, order={order}, moment={round(moment.real / (2 * np.pi), 5)}, {moment=}\"\n",
    "        )\n",
    "    print(\"-\" * 28)"
   ]
  },
  {
   "cell_type": "code",
   "execution_count": 3,
   "metadata": {},
   "outputs": [],
   "source": [
    "from scipy.integrate import romb\n",
    "import numpy as np"
   ]
  },
  {
   "cell_type": "code",
   "execution_count": 4,
   "metadata": {},
   "outputs": [
    {
     "name": "stdout",
     "output_type": "stream",
     "text": [
      "n=1, integrals=0.5j, 0.5j, 0.5j\n",
      "n=2, integrals=(-0.3333333333333333+0j), (-0.3333333333333333+0j), (-0.3333333333333333+0j)\n",
      "n=3, integrals=-0.25j, -0.25j, -0.25j\n",
      "n=4, integrals=(0.2+0j), (0.2+0j), (0.2+0j)\n"
     ]
    }
   ],
   "source": [
    "for n in [1, 2, 3, 4]:\n",
    "    integrals = []\n",
    "    for k in [8, 10, 12]:\n",
    "        a, b = 0, 1j\n",
    "        x = np.linspace(a, b, 2**k + 1)\n",
    "        y = x**n\n",
    "        integrals.append(romb(y, abs(b - a) / (2**k)))\n",
    "    print(f\"n={n}, integrals={integrals[0]}, {integrals[1]}, {integrals[2]}\")"
   ]
  },
  {
   "cell_type": "code",
   "execution_count": null,
   "metadata": {},
   "outputs": [],
   "source": [
    "# TODO: use higher moments to calculate the coefficients of Newton's polynomial\n",
    "# TODO: use some rootfinder to calculate roots of Newton's polynomial\n",
    "\n",
    "# TODO: Feature request for domains other than rectangles (custom Plugins)"
   ]
  }
 ],
 "metadata": {
  "kernelspec": {
   "display_name": "Python 3",
   "language": "python",
   "name": "python3"
  },
  "language_info": {
   "codemirror_mode": {
    "name": "ipython",
    "version": 3
   },
   "file_extension": ".py",
   "mimetype": "text/x-python",
   "name": "python",
   "nbconvert_exporter": "python",
   "pygments_lexer": "ipython3",
   "version": "3.8.0"
  },
  "orig_nbformat": 4,
  "vscode": {
   "interpreter": {
    "hash": "df0893f56f349688326838aaeea0de204df53a132722cbd565e54b24a8fec5f6"
   }
  }
 },
 "nbformat": 4,
 "nbformat_minor": 2
}
